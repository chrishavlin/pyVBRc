{
 "cells": [
  {
   "cell_type": "markdown",
   "id": "f03537a9-924c-438f-a641-b979162e8501",
   "metadata": {},
   "source": [
    "## Isotropic Mixtures in `pyVBRc`\n",
    "\n",
    "While the scaling relationships in the VBRc are formulated for olivine, comparing predicted seismic velocities from the VBRc to observations often requires considering compositional variations present in the upper mantle. \n",
    "\n",
    "To aid in that, `pyVBRc` provides the `pyVBRc.materials` modulue to aid in simple volume averaging of specified phases. \n",
    "\n",
    "### The `IsotropicMedium` class\n",
    "\n",
    "Let's begin with a description independent of the VBRc. \n",
    "\n",
    "The `IsotropicMedium` class in `pyVBRc.materials` let's you specify elastic constants for an isotropic material:\n"
   ]
  },
  {
   "cell_type": "code",
   "execution_count": 1,
   "id": "c5123eda-ae53-4564-926a-13c641a59ab1",
   "metadata": {},
   "outputs": [],
   "source": [
    "from pyVBRc.materials import IsotropicMedium"
   ]
  },
  {
   "cell_type": "code",
   "execution_count": 2,
   "id": "08f844cf-0ff8-480d-a027-8fe930a8af43",
   "metadata": {},
   "outputs": [
    {
     "data": {
      "text/plain": [
       "\u001b[0;31mInit signature:\u001b[0m\n",
       "\u001b[0mIsotropicMedium\u001b[0m\u001b[0;34m(\u001b[0m\u001b[0;34m\u001b[0m\n",
       "\u001b[0;34m\u001b[0m    \u001b[0mpoisson_ratio\u001b[0m\u001b[0;34m:\u001b[0m \u001b[0mUnion\u001b[0m\u001b[0;34m[\u001b[0m\u001b[0mfloat\u001b[0m\u001b[0;34m,\u001b[0m \u001b[0mnumpy\u001b[0m\u001b[0;34m.\u001b[0m\u001b[0m_typing\u001b[0m\u001b[0;34m.\u001b[0m\u001b[0m_array_like\u001b[0m\u001b[0;34m.\u001b[0m\u001b[0m_SupportsArray\u001b[0m\u001b[0;34m[\u001b[0m\u001b[0mnumpy\u001b[0m\u001b[0;34m.\u001b[0m\u001b[0mdtype\u001b[0m\u001b[0;34m[\u001b[0m\u001b[0mAny\u001b[0m\u001b[0;34m]\u001b[0m\u001b[0;34m]\u001b[0m\u001b[0;34m,\u001b[0m \u001b[0mnumpy\u001b[0m\u001b[0;34m.\u001b[0m\u001b[0m_typing\u001b[0m\u001b[0;34m.\u001b[0m\u001b[0m_nested_sequence\u001b[0m\u001b[0;34m.\u001b[0m\u001b[0m_NestedSequence\u001b[0m\u001b[0;34m[\u001b[0m\u001b[0mnumpy\u001b[0m\u001b[0;34m.\u001b[0m\u001b[0m_typing\u001b[0m\u001b[0;34m.\u001b[0m\u001b[0m_array_like\u001b[0m\u001b[0;34m.\u001b[0m\u001b[0m_SupportsArray\u001b[0m\u001b[0;34m[\u001b[0m\u001b[0mnumpy\u001b[0m\u001b[0;34m.\u001b[0m\u001b[0mdtype\u001b[0m\u001b[0;34m[\u001b[0m\u001b[0mAny\u001b[0m\u001b[0;34m]\u001b[0m\u001b[0;34m]\u001b[0m\u001b[0;34m]\u001b[0m\u001b[0;34m,\u001b[0m \u001b[0mbool\u001b[0m\u001b[0;34m,\u001b[0m \u001b[0mint\u001b[0m\u001b[0;34m,\u001b[0m \u001b[0mcomplex\u001b[0m\u001b[0;34m,\u001b[0m \u001b[0mstr\u001b[0m\u001b[0;34m,\u001b[0m \u001b[0mbytes\u001b[0m\u001b[0;34m,\u001b[0m \u001b[0mnumpy\u001b[0m\u001b[0;34m.\u001b[0m\u001b[0m_typing\u001b[0m\u001b[0;34m.\u001b[0m\u001b[0m_nested_sequence\u001b[0m\u001b[0;34m.\u001b[0m\u001b[0m_NestedSequence\u001b[0m\u001b[0;34m[\u001b[0m\u001b[0mUnion\u001b[0m\u001b[0;34m[\u001b[0m\u001b[0mbool\u001b[0m\u001b[0;34m,\u001b[0m \u001b[0mint\u001b[0m\u001b[0;34m,\u001b[0m \u001b[0mfloat\u001b[0m\u001b[0;34m,\u001b[0m \u001b[0mcomplex\u001b[0m\u001b[0;34m,\u001b[0m \u001b[0mstr\u001b[0m\u001b[0;34m,\u001b[0m \u001b[0mbytes\u001b[0m\u001b[0;34m]\u001b[0m\u001b[0;34m]\u001b[0m\u001b[0;34m]\u001b[0m\u001b[0;34m,\u001b[0m\u001b[0;34m\u001b[0m\n",
       "\u001b[0;34m\u001b[0m    \u001b[0mmodulus\u001b[0m\u001b[0;34m:\u001b[0m \u001b[0mUnion\u001b[0m\u001b[0;34m[\u001b[0m\u001b[0mfloat\u001b[0m\u001b[0;34m,\u001b[0m \u001b[0mnumpy\u001b[0m\u001b[0;34m.\u001b[0m\u001b[0m_typing\u001b[0m\u001b[0;34m.\u001b[0m\u001b[0m_array_like\u001b[0m\u001b[0;34m.\u001b[0m\u001b[0m_SupportsArray\u001b[0m\u001b[0;34m[\u001b[0m\u001b[0mnumpy\u001b[0m\u001b[0;34m.\u001b[0m\u001b[0mdtype\u001b[0m\u001b[0;34m[\u001b[0m\u001b[0mAny\u001b[0m\u001b[0;34m]\u001b[0m\u001b[0;34m]\u001b[0m\u001b[0;34m,\u001b[0m \u001b[0mnumpy\u001b[0m\u001b[0;34m.\u001b[0m\u001b[0m_typing\u001b[0m\u001b[0;34m.\u001b[0m\u001b[0m_nested_sequence\u001b[0m\u001b[0;34m.\u001b[0m\u001b[0m_NestedSequence\u001b[0m\u001b[0;34m[\u001b[0m\u001b[0mnumpy\u001b[0m\u001b[0;34m.\u001b[0m\u001b[0m_typing\u001b[0m\u001b[0;34m.\u001b[0m\u001b[0m_array_like\u001b[0m\u001b[0;34m.\u001b[0m\u001b[0m_SupportsArray\u001b[0m\u001b[0;34m[\u001b[0m\u001b[0mnumpy\u001b[0m\u001b[0;34m.\u001b[0m\u001b[0mdtype\u001b[0m\u001b[0;34m[\u001b[0m\u001b[0mAny\u001b[0m\u001b[0;34m]\u001b[0m\u001b[0;34m]\u001b[0m\u001b[0;34m]\u001b[0m\u001b[0;34m,\u001b[0m \u001b[0mbool\u001b[0m\u001b[0;34m,\u001b[0m \u001b[0mint\u001b[0m\u001b[0;34m,\u001b[0m \u001b[0mcomplex\u001b[0m\u001b[0;34m,\u001b[0m \u001b[0mstr\u001b[0m\u001b[0;34m,\u001b[0m \u001b[0mbytes\u001b[0m\u001b[0;34m,\u001b[0m \u001b[0mnumpy\u001b[0m\u001b[0;34m.\u001b[0m\u001b[0m_typing\u001b[0m\u001b[0;34m.\u001b[0m\u001b[0m_nested_sequence\u001b[0m\u001b[0;34m.\u001b[0m\u001b[0m_NestedSequence\u001b[0m\u001b[0;34m[\u001b[0m\u001b[0mUnion\u001b[0m\u001b[0;34m[\u001b[0m\u001b[0mbool\u001b[0m\u001b[0;34m,\u001b[0m \u001b[0mint\u001b[0m\u001b[0;34m,\u001b[0m \u001b[0mfloat\u001b[0m\u001b[0;34m,\u001b[0m \u001b[0mcomplex\u001b[0m\u001b[0;34m,\u001b[0m \u001b[0mstr\u001b[0m\u001b[0;34m,\u001b[0m \u001b[0mbytes\u001b[0m\u001b[0;34m]\u001b[0m\u001b[0;34m]\u001b[0m\u001b[0;34m]\u001b[0m\u001b[0;34m,\u001b[0m\u001b[0;34m\u001b[0m\n",
       "\u001b[0;34m\u001b[0m    \u001b[0mmodulus_type\u001b[0m\u001b[0;34m:\u001b[0m \u001b[0mstr\u001b[0m\u001b[0;34m,\u001b[0m\u001b[0;34m\u001b[0m\n",
       "\u001b[0;34m\u001b[0m    \u001b[0mdensity\u001b[0m\u001b[0;34m:\u001b[0m \u001b[0mUnion\u001b[0m\u001b[0;34m[\u001b[0m\u001b[0mfloat\u001b[0m\u001b[0;34m,\u001b[0m \u001b[0mnumpy\u001b[0m\u001b[0;34m.\u001b[0m\u001b[0m_typing\u001b[0m\u001b[0;34m.\u001b[0m\u001b[0m_array_like\u001b[0m\u001b[0;34m.\u001b[0m\u001b[0m_SupportsArray\u001b[0m\u001b[0;34m[\u001b[0m\u001b[0mnumpy\u001b[0m\u001b[0;34m.\u001b[0m\u001b[0mdtype\u001b[0m\u001b[0;34m[\u001b[0m\u001b[0mAny\u001b[0m\u001b[0;34m]\u001b[0m\u001b[0;34m]\u001b[0m\u001b[0;34m,\u001b[0m \u001b[0mnumpy\u001b[0m\u001b[0;34m.\u001b[0m\u001b[0m_typing\u001b[0m\u001b[0;34m.\u001b[0m\u001b[0m_nested_sequence\u001b[0m\u001b[0;34m.\u001b[0m\u001b[0m_NestedSequence\u001b[0m\u001b[0;34m[\u001b[0m\u001b[0mnumpy\u001b[0m\u001b[0;34m.\u001b[0m\u001b[0m_typing\u001b[0m\u001b[0;34m.\u001b[0m\u001b[0m_array_like\u001b[0m\u001b[0;34m.\u001b[0m\u001b[0m_SupportsArray\u001b[0m\u001b[0;34m[\u001b[0m\u001b[0mnumpy\u001b[0m\u001b[0;34m.\u001b[0m\u001b[0mdtype\u001b[0m\u001b[0;34m[\u001b[0m\u001b[0mAny\u001b[0m\u001b[0;34m]\u001b[0m\u001b[0;34m]\u001b[0m\u001b[0;34m]\u001b[0m\u001b[0;34m,\u001b[0m \u001b[0mbool\u001b[0m\u001b[0;34m,\u001b[0m \u001b[0mint\u001b[0m\u001b[0;34m,\u001b[0m \u001b[0mcomplex\u001b[0m\u001b[0;34m,\u001b[0m \u001b[0mstr\u001b[0m\u001b[0;34m,\u001b[0m \u001b[0mbytes\u001b[0m\u001b[0;34m,\u001b[0m \u001b[0mnumpy\u001b[0m\u001b[0;34m.\u001b[0m\u001b[0m_typing\u001b[0m\u001b[0;34m.\u001b[0m\u001b[0m_nested_sequence\u001b[0m\u001b[0;34m.\u001b[0m\u001b[0m_NestedSequence\u001b[0m\u001b[0;34m[\u001b[0m\u001b[0mUnion\u001b[0m\u001b[0;34m[\u001b[0m\u001b[0mbool\u001b[0m\u001b[0;34m,\u001b[0m \u001b[0mint\u001b[0m\u001b[0;34m,\u001b[0m \u001b[0mfloat\u001b[0m\u001b[0;34m,\u001b[0m \u001b[0mcomplex\u001b[0m\u001b[0;34m,\u001b[0m \u001b[0mstr\u001b[0m\u001b[0;34m,\u001b[0m \u001b[0mbytes\u001b[0m\u001b[0;34m]\u001b[0m\u001b[0;34m]\u001b[0m\u001b[0;34m,\u001b[0m \u001b[0mNoneType\u001b[0m\u001b[0;34m]\u001b[0m \u001b[0;34m=\u001b[0m \u001b[0;32mNone\u001b[0m\u001b[0;34m,\u001b[0m\u001b[0;34m\u001b[0m\n",
       "\u001b[0;34m\u001b[0m\u001b[0;34m)\u001b[0m\u001b[0;34m\u001b[0m\u001b[0;34m\u001b[0m\u001b[0m\n",
       "\u001b[0;31mDocstring:\u001b[0m     \n",
       "An end-member isotropic medium\n",
       "\n",
       "Parameters\n",
       "----------\n",
       "poisson_ratio\n",
       "    the poisson ratio of the material\n",
       "modulus\n",
       "    either the shear, Youngs or bulk modulus of the material\n",
       "modulus_type : str\n",
       "    one of \"shear\", \"youngs\" or \"bulk\" depending on the previous parameter\n",
       "density : Optional\n",
       "    the density of the material. only needed for calculating velocities, can\n",
       "    omit if you only want moduli.\n",
       "\u001b[0;31mFile:\u001b[0m           ~/src/vbr_/pyVBRc/pyVBRc/materials/materials.py\n",
       "\u001b[0;31mType:\u001b[0m           type\n",
       "\u001b[0;31mSubclasses:\u001b[0m     "
      ]
     },
     "metadata": {},
     "output_type": "display_data"
    }
   ],
   "source": [
    "IsotropicMedium?"
   ]
  },
  {
   "cell_type": "markdown",
   "id": "6081004c-97a3-41aa-80f8-70444738c0c9",
   "metadata": {},
   "source": [
    "To use it, specify a poisson ratio and a modulus (the shear, Youngs, or bulk modulus). In the following cell, we'll specify two materials with different shear moduli and densities:"
   ]
  },
  {
   "cell_type": "code",
   "execution_count": 3,
   "id": "d1f4b10b-d8b5-416f-9b7e-0de6e71d31d3",
   "metadata": {},
   "outputs": [],
   "source": [
    "m1 = IsotropicMedium(0.25, 60*1e9, 'shear', density=2800)\n",
    "m2 = IsotropicMedium(0.25, 80*1e9, 'shear', density=3300)"
   ]
  },
  {
   "cell_type": "markdown",
   "id": "e3e19a72-c643-4ff3-82ae-4c5dcf721385",
   "metadata": {},
   "source": [
    "An instance of the `IsotropicMedium` class will have a number of attributes available, including all of the engineering moduli:"
   ]
  },
  {
   "cell_type": "code",
   "execution_count": 12,
   "id": "f00cffe6-9773-4775-9279-ae4c37142c12",
   "metadata": {},
   "outputs": [
    {
     "data": {
      "text/plain": [
       "(100.0, 60.0, 60.0, 0.25)"
      ]
     },
     "execution_count": 12,
     "metadata": {},
     "output_type": "execute_result"
    }
   ],
   "source": [
    "m1.bulk_modulus/1e9, m1.shear_modulus/1e9, m1.lame_first_parameter/1e9, m1.poisson_ratio"
   ]
  },
  {
   "cell_type": "markdown",
   "id": "028967de-9b2c-49ff-b859-322280fd6fcf",
   "metadata": {},
   "source": [
    "and because we specified a density, we also have shear and compressional wave velocities:"
   ]
  },
  {
   "cell_type": "code",
   "execution_count": 13,
   "id": "629d9d88-c598-4791-aee5-67c10b57e5ac",
   "metadata": {},
   "outputs": [
    {
     "data": {
      "text/plain": [
       "(4629.100498862757, 8017.837257372731)"
      ]
     },
     "execution_count": 13,
     "metadata": {},
     "output_type": "execute_result"
    }
   ],
   "source": [
    "m1.v_s, m1.v_p"
   ]
  },
  {
   "cell_type": "markdown",
   "id": "9db99ee2-8cfc-4c15-a0a6-9aa9964de93b",
   "metadata": {},
   "source": [
    "You can also specify "
   ]
  },
  {
   "cell_type": "code",
   "execution_count": 14,
   "id": "a866cb2e-05da-4ab8-b32b-b710f9a458b9",
   "metadata": {},
   "outputs": [],
   "source": [
    "import numpy as np"
   ]
  },
  {
   "cell_type": "code",
   "execution_count": 16,
   "id": "08dc358d-c805-4433-bfcd-0139bbb196d5",
   "metadata": {},
   "outputs": [],
   "source": [
    "m1 = IsotropicMedium(.25, np.full((10,1), 60*1e9), 'shear', density)"
   ]
  },
  {
   "cell_type": "code",
   "execution_count": 18,
   "id": "fd5673a7-a7a6-4d6d-8ea6-e38bb47fc591",
   "metadata": {},
   "outputs": [
    {
     "data": {
      "text/plain": [
       "0.25"
      ]
     },
     "execution_count": 18,
     "metadata": {},
     "output_type": "execute_result"
    }
   ],
   "source": [
    "m1.poisson_ratio"
   ]
  },
  {
   "cell_type": "code",
   "execution_count": null,
   "id": "33f2aa91-1e8b-49ce-8334-d082276665d0",
   "metadata": {},
   "outputs": [],
   "source": []
  }
 ],
 "metadata": {
  "kernelspec": {
   "display_name": "Python 3 (ipykernel)",
   "language": "python",
   "name": "python3"
  },
  "language_info": {
   "codemirror_mode": {
    "name": "ipython",
    "version": 3
   },
   "file_extension": ".py",
   "mimetype": "text/x-python",
   "name": "python",
   "nbconvert_exporter": "python",
   "pygments_lexer": "ipython3",
   "version": "3.10.11"
  }
 },
 "nbformat": 4,
 "nbformat_minor": 5
}
