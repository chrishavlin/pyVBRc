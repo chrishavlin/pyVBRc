{
 "cells": [
  {
   "cell_type": "code",
   "execution_count": 3,
   "id": "085070f0-6186-47b4-9f7e-48439db8cd6f",
   "metadata": {},
   "outputs": [
    {
     "name": "stderr",
     "output_type": "stream",
     "text": [
      "pyVBRc : [INFO ] 2023-07-26 11:43:45,907:  /home/chris/src/vbr_related/pyVBRc/pyVBRc/sample_data/VBRc_sample_LUT.mat loaded.\n"
     ]
    },
    {
     "data": {
      "image/png": "[encoded data removed]",
      "text/plain": [
       "<Figure size 432x288 with 1 Axes>"
      ]
     },
     "metadata": {
      "needs_background": "light"
     },
     "output_type": "display_data"
    },
    {
     "data": {
      "text/plain": [
       "<Figure size 432x288 with 0 Axes>"
      ]
     },
     "metadata": {},
     "output_type": "display_data"
    }
   ],
   "source": [
    "import matplotlib.pyplot as plt\n",
    "\n",
    "from pyVBRc.sample_data import get_sample_filename\n",
    "from pyVBRc.vbrc_structure import VBRCstruct\n",
    "\n",
    "file = get_sample_filename(\"VBRc_sample_LUT.mat\")\n",
    "vbr = VBRCstruct(file)\n",
    "T_K = vbr.input.SV.T_K[:, 0, 0]\n",
    "Qinv = vbr.output.anelastic.andrade_psp.Qinv[:, 0, 0, 0]\n",
    "\n",
    "plt.semilogy(T_K, Qinv, \".k\")\n",
    "plt.xlabel(\"T [Kelvin]\")\n",
    "plt.ylabel(\"Q$^{-1}$, andrade pseudo-period\")\n",
    "plt.show()\n",
    "plt.savefig(\"andrade_psp_T_dep.png\")"
   ]
  },
  {
   "cell_type": "code",
   "execution_count": null,
   "id": "d8b3481c-38a2-4659-8521-a3cf612b2523",
   "metadata": {},
   "outputs": [],
   "source": []
  }
 ],
 "metadata": {
  "kernelspec": {
   "display_name": "Python 3 (ipykernel)",
   "language": "python",
   "name": "python3"
  },
  "language_info": {
   "codemirror_mode": {
    "name": "ipython",
    "version": 3
   },
   "file_extension": ".py",
   "mimetype": "text/x-python",
   "name": "python",
   "nbconvert_exporter": "python",
   "pygments_lexer": "ipython3",
   "version": "3.9.0"
  }
 },
 "nbformat": 4,
 "nbformat_minor": 5
}
