{
 "cells": [
  {
   "cell_type": "code",
   "execution_count": 1,
   "id": "fbae260e-107e-4cee-8165-a2e3d26ea662",
   "metadata": {},
   "outputs": [],
   "source": [
    "import sympy "
   ]
  },
  {
   "cell_type": "markdown",
   "id": "565c0ae8-c009-443c-8a80-db1517acd4ca",
   "metadata": {},
   "source": [
    "The high temp background dissipation is of the form \n",
    "\n",
    "$f_b = \\Delta_b \\frac{\\alpha  \\tau^{\\alpha-1}}{\\tau_H^\\alpha - \\tau_L^\\alpha}$\n",
    "\n",
    "for $\\tau_L < \\tau < \\tau_H$ (and 0 elsewhere)\n",
    "\n",
    "while the peak takes the form \n",
    "\n",
    "$f_p = \\frac{\\Delta_p}{\\tau \\sigma_p \\sqrt{2\\pi}} \\mathrm{exp}(-\\frac{1}{2}(\\frac{ln(\\tau/\\tau_p)}{\\sigma_p})^2)$\n",
    "\n",
    "from $0< \\tau < \\infty$"
   ]
  },
  {
   "cell_type": "code",
   "execution_count": 2,
   "id": "667fb355-9597-4e46-9404-e3821b32d8cd",
   "metadata": {},
   "outputs": [],
   "source": [
    "from sympy import *"
   ]
  },
  {
   "cell_type": "code",
   "execution_count": 5,
   "id": "4bfcb48d-48a4-4b44-9cf0-6d948643c510",
   "metadata": {},
   "outputs": [
    {
     "data": {
      "text/latex": [
       "$\\displaystyle \\frac{x^{3}}{3 y} + \\frac{x^{2}}{2} + x y$"
      ],
      "text/plain": [
       "x**3/(3*y) + x**2/2 + x*y"
      ]
     },
     "execution_count": 5,
     "metadata": {},
     "output_type": "execute_result"
    }
   ],
   "source": [
    "x = Symbol('x')\n",
    "y = Symbol('y')\n",
    "\n",
    "integrate(x**2/y + x + 1*y, x)"
   ]
  },
  {
   "cell_type": "code",
   "execution_count": 22,
   "id": "8b194b40-84e9-41a3-84eb-0c86fc77c557",
   "metadata": {},
   "outputs": [],
   "source": [
    "d = Symbol('\\Delta_p')\n",
    "sig = Symbol('\\sigma_p')\n",
    "tau = Symbol('t')\n",
    "tau_p = Symbol('t_p')\n",
    "f = Symbol('\\omega')"
   ]
  },
  {
   "cell_type": "code",
   "execution_count": 29,
   "id": "449e0d08-2150-4f30-8c78-bebd5adb4e39",
   "metadata": {},
   "outputs": [
    {
     "data": {
      "text/latex": [
       "$\\displaystyle \\frac{\\sqrt{2} \\Delta_{p} e^{- \\frac{0.5 \\log{\\left(\\frac{t}{t_{p}} \\right)}^{2}}{\\sigma_{p}^{2}}}}{2 \\sqrt{\\pi} \\sigma_{p} t}$"
      ],
      "text/plain": [
       "sqrt(2)*\\Delta_p*exp(-0.5*log(t/t_p)**2/\\sigma_p**2)/(2*sqrt(pi)*\\sigma_p*t)"
      ]
     },
     "execution_count": 29,
     "metadata": {},
     "output_type": "execute_result"
    }
   ],
   "source": [
    "peak = d / (tau * sig * sqrt(2*pi)) * exp(-0.5 * (ln(tau/tau_p)/sig)**2)\n",
    "peak"
   ]
  },
  {
   "cell_type": "code",
   "execution_count": 31,
   "id": "7e1aee13-dc3d-4818-a40d-e7086d7df9f8",
   "metadata": {},
   "outputs": [
    {
     "data": {
      "text/latex": [
       "$\\displaystyle \\frac{\\sqrt{2} \\Delta_{p} e^{- \\frac{0.5 \\log{\\left(\\frac{t}{t_{p}} \\right)}^{2}}{\\sigma_{p}^{2}}}}{2 \\sqrt{\\pi} \\sigma_{p} t \\left(\\omega^{2} t^{2} + 1\\right)}$"
      ],
      "text/plain": [
       "sqrt(2)*\\Delta_p*exp(-0.5*log(t/t_p)**2/\\sigma_p**2)/(2*sqrt(pi)*\\sigma_p*t*(\\omega**2*t**2 + 1))"
      ]
     },
     "execution_count": 31,
     "metadata": {},
     "output_type": "execute_result"
    }
   ],
   "source": [
    "peak_func = peak / (1 + f **2 * tau ** 2)\n",
    "peak_func"
   ]
  },
  {
   "cell_type": "code",
   "execution_count": 33,
   "id": "65ec920f-06bc-4819-bd1a-20a3fddf7d24",
   "metadata": {},
   "outputs": [
    {
     "data": {
      "text/latex": [
       "$\\displaystyle \\frac{\\sqrt{2} \\Delta_{p} \\int \\frac{1}{\\omega^{2} t^{3} e^{\\frac{0.5 \\log{\\left(\\frac{t}{t_{p}} \\right)}^{2}}{\\sigma_{p}^{2}}} + t e^{\\frac{0.5 \\log{\\left(\\frac{t}{t_{p}} \\right)}^{2}}{\\sigma_{p}^{2}}}}\\, dt}{2 \\sqrt{\\pi} \\sigma_{p}}$"
      ],
      "text/plain": [
       "sqrt(2)*\\Delta_p*Integral(1/(\\omega**2*t**3*exp(0.5*log(t/t_p)**2/\\sigma_p**2) + t*exp(0.5*log(t/t_p)**2/\\sigma_p**2)), t)/(2*sqrt(pi)*\\sigma_p)"
      ]
     },
     "execution_count": 33,
     "metadata": {},
     "output_type": "execute_result"
    }
   ],
   "source": [
    "dis_int = integrate(peak_func, tau)\n",
    "dis_int"
   ]
  },
  {
   "cell_type": "code",
   "execution_count": null,
   "id": "e27e1856-b85a-40d8-a811-04d18976301f",
   "metadata": {},
   "outputs": [],
   "source": []
  },
  {
   "cell_type": "code",
   "execution_count": null,
   "id": "55645152-da52-492b-a1b9-2050ff2005bc",
   "metadata": {},
   "outputs": [],
   "source": []
  }
 ],
 "metadata": {
  "kernelspec": {
   "display_name": "Python 3 (ipykernel)",
   "language": "python",
   "name": "python3"
  },
  "language_info": {
   "codemirror_mode": {
    "name": "ipython",
    "version": 3
   },
   "file_extension": ".py",
   "mimetype": "text/x-python",
   "name": "python",
   "nbconvert_exporter": "python",
   "pygments_lexer": "ipython3",
   "version": "3.10.11"
  }
 },
 "nbformat": 4,
 "nbformat_minor": 5
}
